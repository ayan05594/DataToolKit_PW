{
 "cells": [
  {
   "cell_type": "markdown",
   "id": "f9900198",
   "metadata": {},
   "source": [
    "# Loading Preprocessed Data"
   ]
  },
  {
   "cell_type": "markdown",
   "id": "54c2ff74",
   "metadata": {},
   "source": [
    "Before starting the feature engineering process, we first load the preprocessed dataset that was saved after the EDA step. This ensures that all data cleaning, formatting, and exploratory work are carried forward consistently into this next phase."
   ]
  },
  {
   "cell_type": "code",
   "execution_count": 39,
   "id": "03c655c3",
   "metadata": {},
   "outputs": [
    {
     "name": "stdout",
     "output_type": "stream",
     "text": [
      "Loaded preprocessed dataset:\n",
      "       coin symbol         price     1h    24h     7d    24h_volume  \\\n",
      "0   Bitcoin    BTC  40859.460000  0.022  0.030  0.055  3.539076e+10   \n",
      "1  Ethereum    ETH   2744.410000  0.024  0.034  0.065  1.974870e+10   \n",
      "2    Tether   USDT      1.000000 -0.001 -0.001  0.000  5.793497e+10   \n",
      "3       BNB    BNB    383.430000  0.018  0.028  0.004  1.395854e+09   \n",
      "4  USD Coin   USDC      0.999874 -0.001  0.000 -0.000  3.872274e+09   \n",
      "\n",
      "        mkt_cap        date  \n",
      "0  7.709915e+11  2022-03-16  \n",
      "1  3.271044e+11  2022-03-16  \n",
      "2  7.996516e+10  2022-03-16  \n",
      "3  6.404382e+10  2022-03-16  \n",
      "4  5.222214e+10  2022-03-16  \n"
     ]
    }
   ],
   "source": [
    "# Importing necessary libraries\n",
    "import pandas as pd\n",
    "import numpy as np\n",
    "\n",
    "# Defining the path to the preprocessed data file\n",
    "file_path = r'C:\\Users\\ACER\\OneDrive\\Documents\\my codess\\Data-Analytics-Assignment\\Crypto-Liquidity-Prediction-ML-Project\\data\\processed\\processed_data.csv'\n",
    "\n",
    "# Load the dataset\n",
    "df = pd.read_csv(file_path)\n",
    "\n",
    "# Previewing the loaded DataFrame\n",
    "print(\"Loaded preprocessed dataset:\")\n",
    "print(df.head())\n"
   ]
  },
  {
   "cell_type": "markdown",
   "id": "4d93fea9",
   "metadata": {},
   "source": [
    "# 2. Feature Engineering"
   ]
  },
  {
   "cell_type": "markdown",
   "id": "8388f005",
   "metadata": {},
   "source": [
    "**Feature Engineering** involves creating new variables or transforming existing ones to better capture important patterns in the data. These new features can help improve the performance of models or provide deeper insights during analysis. In this section, we create moving averages to smooth out short-term fluctuations and highlight underlying trends in cryptocurrency price and market capitalization."
   ]
  },
  {
   "cell_type": "markdown",
   "id": "e52e90dd",
   "metadata": {},
   "source": [
    "### 2.1 Feature Engineering: Calculating Moving Averages"
   ]
  },
  {
   "cell_type": "markdown",
   "id": "ca7213d8",
   "metadata": {},
   "source": [
    "In this step, we will enrich the dataset by designing new features in the form of moving averages. We initially sort the data by date to keep the proper order of dates. Next, we calculate a 2-day moving average of the price as well as the market capitalization. Moving averages smooth short-term volatility in the data, allowing us to better capture underlying trends and patterns. The engineered features can enhance the quality of analysis and modeling that follows."
   ]
  },
  {
   "cell_type": "code",
   "execution_count": 42,
   "id": "0e56a3a1",
   "metadata": {},
   "outputs": [
    {
     "name": "stdout",
     "output_type": "stream",
     "text": [
      "            price  price_MA_2d       mkt_cap  market_cap_MA_2d\n",
      "0    4.085946e+04          NaN  7.709915e+11               NaN\n",
      "340  1.080000e+00  20430.27000  1.300442e+08      3.855608e+11\n",
      "339  7.960000e+00      4.52000  1.302007e+08      1.301224e+08\n",
      "338  2.949200e-01      4.12746  1.327759e+08      1.314883e+08\n",
      "337  3.051000e-09      0.14746  1.329136e+08      1.328448e+08\n"
     ]
    }
   ],
   "source": [
    "# Ensuring that the dataframe is sorted by the date for accurate rolling calculations\n",
    "df = df.sort_values(by='date')\n",
    "\n",
    "# Calculating 2-day moving average of 'price' column\n",
    "df['price_MA_2d'] = df['price'].rolling(window=2).mean()\n",
    "\n",
    "# Calculating 2-day moving average of 'market capitalization'\n",
    "df['market_cap_MA_2d'] = df['mkt_cap'].rolling(window=2).mean()\n",
    "\n",
    "# Displaying the first 5 rows of the original and new moving average columns\n",
    "print(df[['price', 'price_MA_2d', 'mkt_cap', 'market_cap_MA_2d']].head())"
   ]
  },
  {
   "cell_type": "markdown",
   "id": "bfe5c3d9",
   "metadata": {},
   "source": [
    "**Description of Moving Average Output**\n",
    "\n",
    "- The moving average columns (`price_MA_2d` and `market_cap_MA_2d`) represent the average of the current and previous day’s values, smoothing out short-term fluctuations.\n",
    "- Notice that the first row shows `NaN` values for moving averages because there is no previous day to average with.\n",
    "- The moving averages provide a clearer trend by reducing noise in daily price and market cap data.\n",
    "- This helps in identifying underlying patterns or trends that may not be visible in the raw data.\n",
    "- For example, the `price_MA_2d` smooths out sudden spikes or drops seen in the raw price, aiding better analysis and forecasting."
   ]
  },
  {
   "cell_type": "markdown",
   "id": "a02a9eca",
   "metadata": {},
   "source": [
    "### 2.2 Calculating Simple Volatility Based on Price Changes"
   ]
  },
  {
   "cell_type": "markdown",
   "id": "78afbf31",
   "metadata": {},
   "source": [
    "In this step, we will calculate a simple measure of volatility by taking the absolute difference between the **24-hour** and **1-hour** return rates. This metric captures how much the price return has changed within the day compared to the last hour, giving an insight into short-term price fluctuations. Higher values indicate greater volatility, which is crucial for understanding risk and market dynamics."
   ]
  },
  {
   "cell_type": "code",
   "execution_count": 43,
   "id": "29affe5f",
   "metadata": {},
   "outputs": [
    {
     "name": "stdout",
     "output_type": "stream",
     "text": [
      "        1h    24h  volatility\n",
      "0    0.022  0.030       0.008\n",
      "340  0.000 -0.004       0.004\n",
      "339  0.017  0.008       0.009\n",
      "338  0.023  0.010       0.013\n",
      "337  0.012 -0.005       0.017\n"
     ]
    }
   ],
   "source": [
    "# Computing simple volatility as the absolute difference between 24-hour and 1-hour returns\n",
    "df['volatility'] = (df['24h'] - df['1h']).abs()\n",
    "\n",
    "print(df[['1h', '24h', 'volatility']].head())"
   ]
  },
  {
   "cell_type": "markdown",
   "id": "d052f96b",
   "metadata": {},
   "source": [
    "**Description of Volatility Score Output**\n",
    "\n",
    "The table shows the **1-hour** and **24-hour** return percentages alongside the calculated **volatility score**, which measures the absolute difference between these two returns. This score helps capture short-term price fluctuations:\n",
    "\n",
    "- For example, the first row indicates a 1-hour return of 2.2% and a 24-hour return of 3.0%, resulting in a volatility score of 0.8%.\n",
    "- The volatility score quantifies how much the returns differ within these two timeframes, highlighting periods of higher or lower price stability.\n",
    "- Smaller volatility scores suggest relatively stable price movement between 1 hour and 24 hours, whereas larger scores indicate more pronounced changes in price behavior during that period.\n",
    "\n",
    "This simple metric offers a quick way to identify coins experiencing significant short-term price swings."
   ]
  },
  {
   "cell_type": "markdown",
   "id": "633edda8",
   "metadata": {},
   "source": [
    "### 2.3 Liquidity Ratio Calculation"
   ]
  },
  {
   "cell_type": "markdown",
   "id": "1de191b7",
   "metadata": {},
   "source": [
    "In this step, we will calculate the liquidity ratio by dividing the **24-hour** trading volume by the market capitalization for each cryptocurrency. This metric will provides insight into how actively a coin is being traded relative to its overall market value, helping to assess the ease of buying or selling the asset without impacting its price significantly."
   ]
  },
  {
   "cell_type": "code",
   "execution_count": 44,
   "id": "a8aae73c",
   "metadata": {},
   "outputs": [
    {
     "name": "stdout",
     "output_type": "stream",
     "text": [
      "       24h_volume       mkt_cap  liquidity_ratio\n",
      "0    3.539076e+10  7.709915e+11         0.045903\n",
      "340  9.525810e+04  1.300442e+08         0.000733\n",
      "339  1.069360e+06  1.302007e+08         0.008213\n",
      "338  3.041720e+03  1.327759e+08         0.000023\n",
      "337  1.894020e+05  1.329136e+08         0.001425\n"
     ]
    }
   ],
   "source": [
    "# Calculate liquidity ratio as the ratio of 24-hour trading volume to market capitalization\n",
    "df['liquidity_ratio'] = df['24h_volume'] / df['mkt_cap']\n",
    "\n",
    "print(df[['24h_volume', 'mkt_cap', 'liquidity_ratio']].head())"
   ]
  },
  {
   "cell_type": "markdown",
   "id": "ebae2d02",
   "metadata": {},
   "source": [
    "**Liquidity Ratio Output Description**\n",
    "\n",
    "- **24h_volume**: The 24-hour volume of trading of the cryptocurrency.\n",
    "- **mkt_cap**: The overall market capitalization of the cryptocurrency.\n",
    "- **liquidity_ratio**: The 24-hour trading volume to market capitalization ratio, showing how actively the coin is traded compared to its size.\n",
    "\n",
    "From the output, we see:\n",
    "- Liquidity ratios differ significantly across coins, ranging from as much as around `0.046` to very low levels like `0.000023`.\n",
    "- A higher liquidity ratio indicates the coin is more actively traded relative to its market cap and thus implies greater liquidity.\n",
    "- Lower values indicate less trading activity in relation to the size of the coin and can imply lesser liquidity."
   ]
  },
  {
   "cell_type": "markdown",
   "id": "e015d41d",
   "metadata": {},
   "source": [
    "# Saving the Feature-Engineered Data\n",
    "\n",
    "After completing the feature engineering steps such as calculating moving averages, volatility, and liquidity ratio, it is important to save the updated dataframe. Saving to a new CSV file preserves the original processed data and clearly marks the data ready for the next step — `Model training`.\n",
    "\n",
    "This practice ensures a clean workflow, allows easy tracking of data transformations, and provides a backup of the original processed dataset.\n"
   ]
  },
  {
   "cell_type": "code",
   "execution_count": 45,
   "id": "967c3511",
   "metadata": {},
   "outputs": [
    {
     "name": "stdout",
     "output_type": "stream",
     "text": [
      "Feature-engineered data saved successfully to:\n",
      "C:\\Users\\ACER\\OneDrive\\Documents\\my codess\\Data-Analytics-Assignment\\Crypto-Liquidity-Prediction-ML-Project\\data\\processed\\crypto_data_feature_engineered.csv\n"
     ]
    }
   ],
   "source": [
    "# Save the feature-engineered dataframe to a new CSV file for model training\n",
    "output_path = r\"C:\\Users\\ACER\\OneDrive\\Documents\\my codess\\Data-Analytics-Assignment\\Crypto-Liquidity-Prediction-ML-Project\\data\\processed\\crypto_data_feature_engineered.csv\"\n",
    "df.to_csv(output_path, index=False)\n",
    "\n",
    "print(f\"Feature-engineered data saved successfully to:\\n{output_path}\")"
   ]
  },
  {
   "cell_type": "markdown",
   "id": "f3ddd92b",
   "metadata": {},
   "source": [
    "# Summary of Feature Engineering `02_feature_engineering.ipynb`\n",
    "\n",
    "In this step, we enhanced our dataset by creating new features to improve model performance:\n",
    "\n",
    "- **Loaded Preprocessed Data**: Imported the cleaned and preprocessed dataset saved from the previous step.\n",
    "- **Calculated Moving Averages**: Computed 2-day moving averages for `price` and `market capitalization` to smooth short-term fluctuations and capture trends.\n",
    "- **Calculated Volatility Score**: Derived a simple volatility measure as the absolute difference between 24-hour and 1-hour returns to quantify price fluctuations.\n",
    "- **Calculated Liquidity Ratio**: Created a liquidity metric by dividing the 24-hour trading volume by the market capitalization, indicating asset liquidity.\n",
    "- **Saved Feature-Engineered Data**: Exported the updated dataset with new features to a new CSV file for use in model training.\n",
    "\n",
    "These new features help capture important temporal and market dynamics for more accurate liquidity prediction.\n"
   ]
  }
 ],
 "metadata": {
  "kernelspec": {
   "display_name": "Python 3",
   "language": "python",
   "name": "python3"
  },
  "language_info": {
   "codemirror_mode": {
    "name": "ipython",
    "version": 3
   },
   "file_extension": ".py",
   "mimetype": "text/x-python",
   "name": "python",
   "nbconvert_exporter": "python",
   "pygments_lexer": "ipython3",
   "version": "3.11.0"
  }
 },
 "nbformat": 4,
 "nbformat_minor": 5
}
