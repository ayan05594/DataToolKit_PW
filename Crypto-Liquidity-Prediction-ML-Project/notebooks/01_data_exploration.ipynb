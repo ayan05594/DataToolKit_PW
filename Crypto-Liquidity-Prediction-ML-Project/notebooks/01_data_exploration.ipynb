{
 "cells": [
  {
   "cell_type": "markdown",
   "id": "80745514",
   "metadata": {},
   "source": [
    " ***<p style=\"background-color:#00FFFF; font-family:Gabriola, cursive; color:#000080; font-size:150%; text-align:left; border-radius:10px 50px; padding:10px;\">Cryptocurrency Liquidity Prediction for Market Stability</p>***"
   ]
  },
  {
   "cell_type": "markdown",
   "id": "0b92c724",
   "metadata": {},
   "source": [
    "This project focuses on predicting **cryptocurrency liquidity**, a continuous variable that depends on historical market data, trading patterns, and potentially external signals (like social media). It involves:\n",
    "- Feature engineering for temporal and market features\n",
    "- Forecasting using regression or deep learning models\n",
    "- Stability analysis through liquidity prediction"
   ]
  },
  {
   "cell_type": "markdown",
   "id": "6dbf1837",
   "metadata": {},
   "source": [
    "# Problem Statement"
   ]
  },
  {
   "cell_type": "markdown",
   "id": "11032ebf",
   "metadata": {},
   "source": [
    "Cryptocurrency markets are highly volatile. Liquidity — the ability to buy/sell without major price change — is vital for stability. Low liquidity can result in sharp price swings, increased risk, and potential market manipulation.\n",
    "\n",
    "The objective of this project is to **build a machine learning model that predicts liquidity levels** of cryptocurrencies using various indicators such as:\n",
    "- Historical prices and volumes\n",
    "- Transaction and volatility patterns\n",
    "- Exchange listing frequency\n",
    "- Social media trends\n",
    "\n",
    "This model aims to **detect early signs of liquidity crises** to help **traders, exchanges, and institutions manage risk more effectively.**"
   ]
  },
  {
   "cell_type": "markdown",
   "id": "4d942c9f",
   "metadata": {},
   "source": [
    "# Data Lifecycle"
   ]
  },
  {
   "cell_type": "markdown",
   "id": "781966f7",
   "metadata": {},
   "source": [
    "The full pipeline for this project follows these 10 stages:\n",
    "\n",
    "1. **Data Collection** – Gather historical crypto data (2016–2017) on prices, volume, etc.\n",
    "2. **Data Preprocessing** – Clean, handle missing values, normalize, format.\n",
    "3. **EDA** – Understand patterns, volatility, correlations, seasonality.\n",
    "4. **Feature Engineering** – Add liquidity indicators, rolling stats, ratios.\n",
    "5. **Model Selection** – Choose appropriate regression/forecasting models.\n",
    "6. **Model Training** – Fit on training data with engineered features.\n",
    "7. **Evaluation** – Use RMSE, MAE, R² for validation.\n",
    "8. **Hyperparameter Tuning** – Grid/random search for optimization.\n",
    "9. **Testing/Validation** – Apply model to unseen data, analyze stability.\n",
    "10. **Deployment** – Use Flask/Streamlit for a local interactive tool."
   ]
  },
  {
   "cell_type": "markdown",
   "id": "0ce22cca",
   "metadata": {},
   "source": [
    "# Project Description"
   ]
  },
  {
   "cell_type": "markdown",
   "id": "80ab1ed7",
   "metadata": {},
   "source": [
    "This is a real-world predictive analytics project to monitor **market stability** through **liquidity forecasting** in cryptocurrency markets. \n",
    "\n",
    "Using historical crypto trading data, we will:\n",
    "- Understand how price and volume reflect liquidity\n",
    "- Engineer liquidity-specific features (volatility, rolling average, volume ratios)\n",
    "- Build predictive models to classify or forecast low-liquidity phases\n",
    "- Design a prototype system to forecast risks and liquidity shocks\n",
    "\n",
    "This tool will enable **better risk management**, **trading decisions**, and possibly **prevent financial instability** in fast-moving digital asset environments."
   ]
  },
  {
   "cell_type": "markdown",
   "id": "e5d71391",
   "metadata": {},
   "source": [
    "# Dataset"
   ]
  },
  {
   "cell_type": "markdown",
   "id": "e25b8998",
   "metadata": {},
   "source": [
    "**Source**: Historical Cryptocurrency Dataset from 2016–2017  \n",
    "**Link**: [Google Drive Dataset](https://drive.google.com/drive/folders/10BRgPip2Zj_56is3DilJCowjfyT6E9AM)\n"
   ]
  },
  {
   "cell_type": "markdown",
   "id": "09cf6283",
   "metadata": {},
   "source": [
    "--- "
   ]
  },
  {
   "cell_type": "markdown",
   "id": "610ce258",
   "metadata": {},
   "source": [
    "# 1. Data Loading and Initial Exploration"
   ]
  },
  {
   "cell_type": "markdown",
   "id": "ecc81b10",
   "metadata": {},
   "source": [
    "### 1.1 Importing Pandas, Numpy, Matplotlib, Seaborn and Warings Library."
   ]
  },
  {
   "cell_type": "markdown",
   "id": "f88c66d2",
   "metadata": {},
   "source": [
    "The first step is to import the necessary Python libraries for data manipulation, visualization, and machine learning. This includes libraries like pandas for data handling, numpy for numerical operations, matplotlib and seaborn for visualization, and warnings to suppress any unwanted warnings."
   ]
  },
  {
   "cell_type": "code",
   "execution_count": 3,
   "id": "59150540",
   "metadata": {},
   "outputs": [],
   "source": [
    "import pandas as pd\n",
    "import numpy as np\n",
    "import matplotlib.pyplot as plt\n",
    "import seaborn as sns\n",
    "import plotly.express as px\n",
    "import warnings\n",
    "\n",
    "warnings.filterwarnings(\"ignore\")"
   ]
  },
  {
   "cell_type": "markdown",
   "id": "beca7b6e",
   "metadata": {},
   "source": [
    "### 1.2 Loading the Dataset (2016 and 2017)"
   ]
  },
  {
   "cell_type": "markdown",
   "id": "08bcc700",
   "metadata": {},
   "source": [
    "Next, we load the dataset into the pandas DataFrame. The dataset URL is provided, and we'll use `pd.read_csv()` to load it. Once the dataset is loaded, we display the first few rows to verify its structure."
   ]
  },
  {
   "cell_type": "code",
   "execution_count": 4,
   "id": "ecb8ab3c",
   "metadata": {},
   "outputs": [],
   "source": [
    "df_2016 = pd.read_csv(r'C:\\Users\\ACER\\OneDrive\\Documents\\my codess\\Data-Analytics-Assignment\\Crypto-Liquidity-Prediction-ML-Project\\data\\raw\\coin_gecko_2022-03-16.csv')\n",
    "df_2017 = pd.read_csv(r'C:\\Users\\ACER\\OneDrive\\Documents\\my codess\\Data-Analytics-Assignment\\Crypto-Liquidity-Prediction-ML-Project\\data\\raw\\coin_gecko_2022-03-17.csv')"
   ]
  },
  {
   "cell_type": "markdown",
   "id": "ed6b6e98",
   "metadata": {},
   "source": [
    "### 1.3 Concatenating the datasets"
   ]
  },
  {
   "cell_type": "markdown",
   "id": "0e20ed40",
   "metadata": {},
   "source": [
    "In this step, we will combine multiple datasets into a single DataFrame using `pd.concat()`. This is useful when data is split across multiple files or sources but shares the same structure, allowing us to perform unified analysis on the complete dataset."
   ]
  },
  {
   "cell_type": "code",
   "execution_count": 5,
   "id": "1b676b33",
   "metadata": {},
   "outputs": [],
   "source": [
    "df = pd.concat([df_2016, df_2017], ignore_index=True)"
   ]
  },
  {
   "cell_type": "markdown",
   "id": "d51c816b",
   "metadata": {},
   "source": [
    "### 1.4 Displaying the First Few Rows of the Dataset"
   ]
  },
  {
   "cell_type": "markdown",
   "id": "471aa490",
   "metadata": {},
   "source": [
    "After concatenating the datasets, we will use print `(df.head())` to check the first few rows.This helps us quickly verify the combined dataset structure and data correctness.\n"
   ]
  },
  {
   "cell_type": "code",
   "execution_count": 10,
   "id": "b874f535",
   "metadata": {},
   "outputs": [
    {
     "name": "stdout",
     "output_type": "stream",
     "text": [
      "       coin symbol         price     1h    24h     7d    24h_volume  \\\n",
      "0   Bitcoin    BTC  40859.460000  0.022  0.030  0.055  3.539076e+10   \n",
      "1  Ethereum    ETH   2744.410000  0.024  0.034  0.065  1.974870e+10   \n",
      "2    Tether   USDT      1.000000 -0.001 -0.001  0.000  5.793497e+10   \n",
      "3       BNB    BNB    383.430000  0.018  0.028  0.004  1.395854e+09   \n",
      "4  USD Coin   USDC      0.999874 -0.001  0.000 -0.000  3.872274e+09   \n",
      "\n",
      "        mkt_cap        date  \n",
      "0  7.709915e+11  2022-03-16  \n",
      "1  3.271044e+11  2022-03-16  \n",
      "2  7.996516e+10  2022-03-16  \n",
      "3  6.404382e+10  2022-03-16  \n",
      "4  5.222214e+10  2022-03-16  \n"
     ]
    }
   ],
   "source": [
    "print(df.head())"
   ]
  },
  {
   "cell_type": "markdown",
   "id": "1f596451",
   "metadata": {},
   "source": [
    "### 1.5 Checking the Dataframe Information"
   ]
  },
  {
   "cell_type": "markdown",
   "id": "b4f1f166",
   "metadata": {},
   "source": [
    "We will use `df.info()` to get a quick summary of the dataset. This includes the number of rows, columns, data types of each column, and counts of non-null values. This step helps us understand the structure of the data and help us to identify the missing values."
   ]
  },
  {
   "cell_type": "code",
   "execution_count": 9,
   "id": "da6cfbf6",
   "metadata": {},
   "outputs": [
    {
     "name": "stdout",
     "output_type": "stream",
     "text": [
      "<class 'pandas.core.frame.DataFrame'>\n",
      "RangeIndex: 1000 entries, 0 to 999\n",
      "Data columns (total 9 columns):\n",
      " #   Column      Non-Null Count  Dtype  \n",
      "---  ------      --------------  -----  \n",
      " 0   coin        1000 non-null   object \n",
      " 1   symbol      1000 non-null   object \n",
      " 2   price       1000 non-null   float64\n",
      " 3   1h          993 non-null    float64\n",
      " 4   24h         993 non-null    float64\n",
      " 5   7d          992 non-null    float64\n",
      " 6   24h_volume  993 non-null    float64\n",
      " 7   mkt_cap     1000 non-null   float64\n",
      " 8   date        1000 non-null   object \n",
      "dtypes: float64(6), object(3)\n",
      "memory usage: 70.4+ KB\n",
      "None\n"
     ]
    }
   ],
   "source": [
    "print(df.info())"
   ]
  },
  {
   "cell_type": "markdown",
   "id": "f52bebd8",
   "metadata": {},
   "source": [
    "### 1.6 Checking for Missing Values"
   ]
  },
  {
   "cell_type": "markdown",
   "id": "c102c3c0",
   "metadata": {},
   "source": [
    "Here, we will check how many missing (null) values are present in each column using `df.isnull().sum()`. This helps us understand if and where data is incomplete so we can decide how to handle those gaps."
   ]
  },
  {
   "cell_type": "code",
   "execution_count": 11,
   "id": "7cc0e59f",
   "metadata": {},
   "outputs": [
    {
     "name": "stdout",
     "output_type": "stream",
     "text": [
      "coin          0\n",
      "symbol        0\n",
      "price         0\n",
      "1h            7\n",
      "24h           7\n",
      "7d            8\n",
      "24h_volume    7\n",
      "mkt_cap       0\n",
      "date          0\n",
      "dtype: int64\n"
     ]
    }
   ],
   "source": [
    "print(df.isnull().sum())"
   ]
  },
  {
   "cell_type": "markdown",
   "id": "ecc84fe8",
   "metadata": {},
   "source": [
    "### 1.7 Handling Missing Values"
   ]
  },
  {
   "cell_type": "markdown",
   "id": "13b3f4fc",
   "metadata": {},
   "source": [
    "In this step, we will remove all the rows that contain any missing values using `dropna()`. This ensures our dataset is clean and ready for an accurate analysis. After dropping, we will print the new shape of the DataFrame to get to know how many rows remain."
   ]
  },
  {
   "cell_type": "code",
   "execution_count": 12,
   "id": "e37459e7",
   "metadata": {},
   "outputs": [
    {
     "name": "stdout",
     "output_type": "stream",
     "text": [
      "Dataset shape after removing missing values: (992, 9)\n"
     ]
    }
   ],
   "source": [
    "df.dropna(inplace=True)\n",
    "print(\"Dataset shape after removing missing values:\", df.shape)"
   ]
  },
  {
   "cell_type": "markdown",
   "id": "ff9b7384",
   "metadata": {},
   "source": [
    "### 1.8 Converting the ‘date’ column to datetime format"
   ]
  },
  {
   "cell_type": "markdown",
   "id": "62992ba0",
   "metadata": {},
   "source": [
    "In this, we will be Converting the `‘date’` column from `string/object` type to `pandas datetime format` allows us to perform time-based operations and analysis more efficiently."
   ]
  },
  {
   "cell_type": "code",
   "execution_count": 13,
   "id": "6ed1a74e",
   "metadata": {},
   "outputs": [
    {
     "name": "stdout",
     "output_type": "stream",
     "text": [
      "coin                  object\n",
      "symbol                object\n",
      "price                float64\n",
      "1h                   float64\n",
      "24h                  float64\n",
      "7d                   float64\n",
      "24h_volume           float64\n",
      "mkt_cap              float64\n",
      "date          datetime64[ns]\n",
      "dtype: object\n"
     ]
    }
   ],
   "source": [
    "df['date'] = pd.to_datetime(df['date'])\n",
    "print(df.dtypes)"
   ]
  },
  {
   "cell_type": "markdown",
   "id": "0d6cd81b",
   "metadata": {},
   "source": [
    "### 1.9 Checking for duplicate records"
   ]
  },
  {
   "cell_type": "markdown",
   "id": "ad8bd7b3",
   "metadata": {},
   "source": [
    "We will check the dataset for any duplicate rows to ensure data quality and avoid redundant information in analysis."
   ]
  },
  {
   "cell_type": "code",
   "execution_count": 14,
   "id": "224be259",
   "metadata": {},
   "outputs": [
    {
     "name": "stdout",
     "output_type": "stream",
     "text": [
      "Number of duplicate rows found: 0\n"
     ]
    }
   ],
   "source": [
    "print(\"Number of duplicate rows found:\", df.duplicated().sum())"
   ]
  },
  {
   "cell_type": "markdown",
   "id": "d709fbb0",
   "metadata": {},
   "source": [
    "# Exploratory Data Analysis (EDA)"
   ]
  },
  {
   "cell_type": "markdown",
   "id": "8226e78e",
   "metadata": {},
   "source": [
    "### 1.10 Generating Summary Statistics"
   ]
  },
  {
   "cell_type": "markdown",
   "id": "8a4fdf1d",
   "metadata": {},
   "source": [
    "We will use the `describe()` function to get a quick overview of the dataset’s numerical columns. This step will helps us understand the distribution, central tendency, and spread of the data by showing the count, mean, standard deviation, min, max, and quartiles. It’s useful for spotting any irregularities or anomalies before further analysis."
   ]
  },
  {
   "cell_type": "code",
   "execution_count": 15,
   "id": "493adcab",
   "metadata": {},
   "outputs": [
    {
     "name": "stdout",
     "output_type": "stream",
     "text": [
      "              price          1h         24h          7d    24h_volume  \\\n",
      "count  9.920000e+02  992.000000  992.000000  992.000000  9.920000e+02   \n",
      "mean   6.200521e+02    0.009682    0.024018    0.023558  2.884638e+08   \n",
      "min    1.484000e-09   -0.704000   -0.646000   -0.558000  0.000000e+00   \n",
      "25%    1.940547e-01    0.001000    0.001000   -0.041000  1.764198e+06   \n",
      "50%    1.095000e+00    0.006000    0.016000   -0.000500  8.328741e+06   \n",
      "75%    6.955000e+00    0.019000    0.035000    0.037000  3.947222e+07   \n",
      "max    4.121727e+04    0.095000    0.577000    4.608000  5.793497e+10   \n",
      "std    4.421998e+03    0.026917    0.058668    0.229781  2.771176e+09   \n",
      "\n",
      "            mkt_cap                           date  \n",
      "count  9.920000e+02                            992  \n",
      "mean   3.783951e+09  2022-03-16 11:58:32.903225856  \n",
      "min    6.577043e+07            2022-03-16 00:00:00  \n",
      "25%    1.158501e+08            2022-03-16 00:00:00  \n",
      "50%    2.131953e+08            2022-03-16 00:00:00  \n",
      "75%    5.972493e+08            2022-03-17 00:00:00  \n",
      "max    7.760774e+11            2022-03-17 00:00:00  \n",
      "std    3.818970e+10                            NaN  \n"
     ]
    }
   ],
   "source": [
    "print(df.describe())"
   ]
  },
  {
   "cell_type": "markdown",
   "id": "d3a830c8",
   "metadata": {},
   "source": [
    "### What I Learned from the Summary\n",
    "\n",
    "- **Price Range is Huge:** Certain cryptos are very inexpensive (down to **$0.000000001**), while others are quite costly, with the highest price being over **$41,000**.\n",
    "\n",
    "- **Market Behavior is Unstable:** The changes in price over **1 hour**, **24 hours**, and **7 days** have both positive and negative values. This means that some coins appreciated in value, whereas others depreciated within these timelines. Interestingly enough, one coin went up by more than **4,600% in one week**!\n",
    "\n",
    "- **Trading Volume is Extremely Varied:** The **24-hour trading volume** has an enormous range—from **$0** to more than **$57 billion**, indicating extreme contrasts in coin popularity and liquidity.\n",
    "\n",
    "- **Market Cap Distribution:** Market capitalization also differs quite sharply. While the **median is approximately $3.78 billion**, the highest is more than **$776 billion**, suggesting the presence of large coins such as **Bitcoin** or **Ethereum**.\n",
    "\n",
    "- **Time Span of Data:** The dataset covers only **two days** which is **March 16 and 17, 2022**. Therefore, the insights must be understood as **snapshots**, not as long-term trends.\n"
   ]
  },
  {
   "cell_type": "markdown",
   "id": "20a0a578",
   "metadata": {},
   "source": [
    "### 1.11 Correlation Heatmap of Numerical Features\n"
   ]
  },
  {
   "cell_type": "markdown",
   "id": "7b31d8d4",
   "metadata": {},
   "source": [
    "In this step, we will generate a **correlation heatmap** to examine how different numerical variables such as `price`, `volume`, `market cap`, and percentage changes (1h, 24h, 7d) are related to each other.\n",
    "\n",
    "This heatmap provides a visual summary of pairwise correlation coefficients:\n",
    "\n",
    "- Values **closer to +1** indicate a strong **positive relationship**.\n",
    "- Values **closer to -1** indicate a strong **negative relationship**.\n",
    "- Values **around 0** imply **little to no correlation**.\n",
    "\n",
    "Understanding these relationships is crucial for identifying **patterns**, detecting **multicollinearity**, and selecting **relevant features** for further analysis or predictive modeling."
   ]
  },
  {
   "cell_type": "code",
   "execution_count": 16,
   "id": "beff601a",
   "metadata": {},
   "outputs": [
    {
     "data": {
      "image/png": "[encoded data removed]",
      "text/plain": [
       "<Figure size 1200x700 with 2 Axes>"
      ]
     },
     "metadata": {},
     "output_type": "display_data"
    }
   ],
   "source": [
    "numeric_df = df.select_dtypes(include=['float64', 'int64'])\n",
    "\n",
    "plt.figure(figsize=(12, 7))\n",
    "sns.heatmap(numeric_df.corr(), annot=True, fmt=\".2f\", cmap='vlag', center=0, linewidths=0.5, cbar_kws={\"shrink\": 0.8})\n",
    "plt.title(\"Correlation Heatmap of Numerical Features\", fontsize=16, fontweight='bold')\n",
    "plt.xticks(rotation=45)\n",
    "plt.yticks(rotation=0)\n",
    "plt.tight_layout()\n",
    "save_path = r\"C:\\Users\\ACER\\OneDrive\\Documents\\my codess\\Data-Analytics-Assignment\\Crypto-Liquidity-Prediction-ML-Project\\outputs\\figures\\correlation_heatmap.png\"\n",
    "plt.savefig(save_path)\n",
    "plt.show()"
   ]
  },
  {
   "cell_type": "markdown",
   "id": "6e34db8b",
   "metadata": {},
   "source": [
    "### Observations from the Correlation Heatmap\n",
    "\n",
    "- There is a strong positive correlation between **market cap** and **price** when the price increases, market cap also rises.\n",
    "\n",
    "- The **24-hour trading volume** is clearly correlated with market capitalization, indicating that coins with higher market cap tend to have larger trading volumes.\n",
    "\n",
    "- Price changes over **1 hour**, **24 hours**, and **7 days** show little correlation with price or trading volume.\n",
    "\n",
    "- Some numerical features are strongly related to each other, while others exhibit weak or no correlation."
   ]
  },
  {
   "cell_type": "markdown",
   "id": "8e9b176d",
   "metadata": {},
   "source": [
    "### 1.12 Ethereum Price Trend Over Time"
   ]
  },
  {
   "cell_type": "markdown",
   "id": "10823a58",
   "metadata": {},
   "source": [
    "In this step, we will focus on visualizing the price movement of **Ethereum** over the available dates in the dataset.  \n",
    "By plotting the **price** against the **date**, we can observe how the value of Ethereum fluctuated during the selected time period.  \n",
    "This visualization helps in understanding short-term trends and volatility of the cryptocurrency, providing insights into market behavior for Ethereum specifically."
   ]
  },
  {
   "cell_type": "code",
   "execution_count": 17,
   "id": "8f5f76ab",
   "metadata": {},
   "outputs": [
    {
     "data": {
      "image/png": "[encoded data removed]",
      "text/plain": [
       "<Figure size 1200x600 with 1 Axes>"
      ]
     },
     "metadata": {},
     "output_type": "display_data"
    }
   ],
   "source": [
    "ethereum_data = df[df['coin'] == 'Ethereum']\n",
    "\n",
    "plt.figure(figsize=(12, 6))\n",
    "plt.plot(ethereum_data['date'], ethereum_data['price'], marker='o', linestyle='-', color='purple')\n",
    "plt.title(\"Ethereum Price Trend Over Time\", fontsize=16)\n",
    "plt.xlabel(\"Date\", fontsize=12)\n",
    "plt.ylabel(\"Price in $ (USD)\", fontsize=12)\n",
    "plt.xticks(rotation=45)\n",
    "plt.grid(visible=True, linestyle='--', alpha=0.7)\n",
    "plt.tight_layout()\n",
    "save_path = r\"C:\\Users\\ACER\\OneDrive\\Documents\\my codess\\Data-Analytics-Assignment\\Crypto-Liquidity-Prediction-ML-Project\\outputs\\figures\\ethereum_price_trend.png\"\n",
    "plt.savefig(save_path)\n",
    "plt.show()\n"
   ]
  },
  {
   "cell_type": "markdown",
   "id": "ffc289d2",
   "metadata": {},
   "source": [
    "### Insights from Ethereum Price Trend Over Time:\n",
    "\n",
    "- **Smooth rising trend:** Regular price rise all the way through to the end.\n",
    "- **Price range:** Increased from around $2,745 to $2,825, demonstrating around an $80 increase.\n",
    "- **Timeframe:** Spans about 11 days (March 16–27).\n",
    "- **Rate of growth:** Approximately 3% overall gain, averaging $7–8 rise per day.\n",
    "- **Low volatility:** Straightforward, linear growth without any spikes or significant dips.\n",
    "- **No corrections:** Lack of pullback or periods of consolidation.\n",
    "- **Uncommon stability:** This consistent growth trend is unusual for cryptocurrency markets."
   ]
  },
  {
   "cell_type": "markdown",
   "id": "082c516c",
   "metadata": {},
   "source": [
    "# Saving Processed Data for Feature Engineering"
   ]
  },
  {
   "cell_type": "markdown",
   "id": "4c718954",
   "metadata": {},
   "source": [
    "Once we finish the `Exploratory data analysis (EDA)` and `initial preprocessing steps`, the cleaned dataset is now ready to be saved. Saving the processed data ensures that all data cleaning and preparation up until now are all retained. This file will then be the input to the next phase of the project — feature engineering. Saving and loading this processed file helps us keep a clear and modular process, and hence the project is easier to manage and reproduce."
   ]
  },
  {
   "cell_type": "code",
   "execution_count": 47,
   "id": "0d743df5",
   "metadata": {},
   "outputs": [
    {
     "name": "stdout",
     "output_type": "stream",
     "text": [
      "       coin symbol         price     1h    24h     7d    24h_volume  \\\n",
      "0   Bitcoin    BTC  40859.460000  0.022  0.030  0.055  3.539076e+10   \n",
      "1  Ethereum    ETH   2744.410000  0.024  0.034  0.065  1.974870e+10   \n",
      "2    Tether   USDT      1.000000 -0.001 -0.001  0.000  5.793497e+10   \n",
      "3       BNB    BNB    383.430000  0.018  0.028  0.004  1.395854e+09   \n",
      "4  USD Coin   USDC      0.999874 -0.001  0.000 -0.000  3.872274e+09   \n",
      "\n",
      "        mkt_cap       date  \n",
      "0  7.709915e+11 2022-03-16  \n",
      "1  3.271044e+11 2022-03-16  \n",
      "2  7.996516e+10 2022-03-16  \n",
      "3  6.404382e+10 2022-03-16  \n",
      "4  5.222214e+10 2022-03-16  \n",
      "EDA complete. Processed data saved successfully at:\n",
      "C:\\Users\\ACER\\OneDrive\\Documents\\my codess\\Data-Analytics-Assignment\\Crypto-Liquidity-Prediction-ML-Project\\data\\processed\\processed_data.csv\n"
     ]
    }
   ],
   "source": [
    "# Preview the cleaned dataframe\n",
    "print(df.head())\n",
    "\n",
    "# Save the cleaned and processed DataFrame to the specified directory\n",
    "output_path = r'C:\\Users\\ACER\\OneDrive\\Documents\\my codess\\Data-Analytics-Assignment\\Crypto-Liquidity-Prediction-ML-Project\\data\\processed\\processed_data.csv'\n",
    "df.to_csv(output_path, index=False)\n",
    "\n",
    "print(f\"EDA complete. Processed data saved successfully at:\\n{output_path}\")\n"
   ]
  },
  {
   "cell_type": "markdown",
   "id": "bad6dca3",
   "metadata": {},
   "source": [
    "# Summary of `01_data_exploration.ipynb`\n",
    "\n",
    "## Overview\n",
    "This notebook covers the initial data preparation and exploratory analysis for the Liquidity Prediction project.\n",
    "\n",
    "## Key Steps\n",
    "\n",
    "- Imported libraries (`pandas`, `numpy`, `matplotlib`, `seaborn`)\n",
    "- Loaded and concatenated datasets for 2016 and 2017\n",
    "- Explored data with `.head()`, `.info()`, and summary statistics\n",
    "- Handled missing values and removed duplicates\n",
    "- Converted `date` column to datetime and sorted data by date\n",
    "- Performed exploratory data analysis:\n",
    "  - Correlation heatmap of numerical features\n",
    "  - Ethereum price trend visualization\n",
    "- Saved the cleaned dataset for feature engineering\n",
    "\n",
    "## Next Step\n",
    "Proceed to `02_feature_engineering.ipynb` to create new features like moving averages, volatility, and liquidity ratios.\n"
   ]
  }
 ],
 "metadata": {
  "kernelspec": {
   "display_name": "Python 3",
   "language": "python",
   "name": "python3"
  },
  "language_info": {
   "codemirror_mode": {
    "name": "ipython",
    "version": 3
   },
   "file_extension": ".py",
   "mimetype": "text/x-python",
   "name": "python",
   "nbconvert_exporter": "python",
   "pygments_lexer": "ipython3",
   "version": "3.11.0"
  }
 },
 "nbformat": 4,
 "nbformat_minor": 5
}
