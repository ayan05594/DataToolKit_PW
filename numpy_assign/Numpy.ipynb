{
 "cells": [
  {
   "cell_type": "markdown",
   "id": "2a5b2c67-9e3b-4d9b-8329-6ed31bdc4a49",
   "metadata": {},
   "source": [
    "1. Explain the purpose and advantages of NumPy in scientific computing and data analysis. How does it \n",
    "enhance Python's capabilities for numerical operations\n",
    "Ans) NumPy is a powerful Python library for scientific computing that enhances Python's ability to handle numerical data. It provides:\n",
    "\n",
    "Efficient Array Operations: NumPy arrays are faster and more memory-efficient than Python lists, especially for large datasets.\n",
    "Mathematical Functions: It offers a wide range of mathematical functions for linear algebra, statistics, and more, all optimized for speed.\n",
    "Multidimensional Arrays: Supports complex, multi-dimensional arrays for data representation.\n",
    "Broadcasting: Allows operations on arrays of different shapes without explicit loops.\n",
    "Integration: Works seamlessly with other libraries like Pandas, SciPy, and Matplotlib, forming the backbone of many data analysis and machine learning workflows.?"
   ]
  },
  {
   "cell_type": "markdown",
   "id": "c771375f-e35a-4c5e-b1b5-4ab46f195169",
   "metadata": {},
   "source": [
    "2. Compare and contrast np.mean() and np.average() functions in NumPy. When would you use one over the\r\n",
    "other\n",
    "Ans) ?The np.mean() and np.average() functions in NumPy both calculate the average of array elements, but they differ in functionality. np.mean() computes the arithmetic mean without any weights, making it ideal for simple, unweighted averages. On the other hand, np.average() allows for weighted averaging, where different elements can be assigned varying levels of importance using the weights argument. If you only need a basic average, np.mean() is sufficient, but if you require the flexibility to apply different weights or need additional control over the calculation (e.g., along a specific axis), np.average() is the better choice."
   ]
  },
  {
   "cell_type": "markdown",
   "id": "52241c4c-9aad-4e7b-9e0e-2777aeac7b4b",
   "metadata": {},
   "source": [
    "3. Describe the methods for reversing a NumPy array along different axes. Provide examples for 1D and 2D\r\n",
    "arrays\n",
    "Ans) 1. Reversing a 1D Array\n",
    "For a 1D array, you can reverse it by using slicing with the [::-1] syntax. This reverses the entire array.\n",
    "arr = np.array([1, 2, 3, 4, 5])\n",
    "reversed_arr = arr[::-1]\n",
    "print(reversed_arr)  # Output: [5 4 3 2 1]\n",
    "\n",
    "2. Reversing a 2D Array along Different Axes\n",
    "For a 2D array, you can reverse along different axes (rows or columns) by slicing accordingly.\n",
    "Reversing along the rows (vertical axis, axis=0):\n",
    "reverse the rows by using slicing like [::-1, :], which reverses the rows while keeping the columns intact.\n",
    "arr_2d = np.array([[1, 2, 3], [4, 5, 6], [7, 8, 9]])\n",
    "\n",
    "# Reversing along the rows (axis=0)\n",
    "reversed_rows = arr_2d[::-1, :]\n",
    "\n",
    "print(reversed_rows)\n",
    "# Output:\n",
    "# [[7 8 9]\n",
    "#  [4 5 6]\n",
    "#  [1 2 3]]\n",
    " "
   ]
  },
  {
   "cell_type": "markdown",
   "id": "e85f265d-f084-44ea-81ec-68719fba411d",
   "metadata": {},
   "source": [
    "Q4.  How can you determine the data type of elements in a NumPy array? Discuss the importance of data types \n",
    "in memory management and performance\n",
    "Ans) \n",
    "Importance of Data Types in Memory Management and Performance\n",
    "Memory Efficiency:\n",
    "\n",
    "Data types define how much memory each element in the array occupies. For example, an int32 takes up 4 bytes, while an int64 takes 8 bytes.\n",
    "By using a smaller or more appropriate data type, you can save memory, especially when working with large datasets.\n",
    "Performance:\n",
    "\n",
    "NumPy operations are optimized for specific data types. Using the appropriate data type can lead to faster computations. For instance, operations on float32 arrays can be faster than on float64 arrays due to lower memory usage and smaller size.\n",
    "Operations on arrays with compatible types (e.g., both integer arrays or both float arrays) can be performed more efficiently. In contrast, type conversions (like from float64 to int32) may introduce overhead and degrade performance.\n",
    "Precision and Range:\n",
    "\n",
    "The choice of data type affects the precision and range of values that can be represented. For example, int32 can represent a smaller range of values than int64, but it uses less memory.\n",
    "For floating-point arrays, float32 has lower precision than float64. If high precision is required, float64 is preferred despite the additional memory cost.."
   ]
  },
  {
   "cell_type": "markdown",
   "id": "66646193-78c5-42c4-b389-ccae0bda7511",
   "metadata": {},
   "source": [
    "Q5.In NumPy, ndarrays (short for N-dimensional arrays) are the core data structure, representing multi-dimensional, homogeneous arrays. An ndarray is essentially a grid of values, all of the same data type, organized along axes, and it supports efficient operations over these values.\n",
    "\n",
    "Key Features of ndarrays:\n",
    "Homogeneous Data:\n",
    "\n",
    "All elements in a NumPy array must have the same data type (e.g., all integers, all floats).\n",
    "Multidimensional:\n",
    "\n",
    "ndarrays can represent one-dimensional (1D) arrays, two-dimensional (2D) arrays, and higher-dimensional arrays (N-dimensional), making them versatile for a wide range of applications.\n",
    "Fixed Size:\n",
    "\n",
    "The size of an ndarray is fixed upon creation, and it cannot be resized directly. To change the size, you must create a new array with the desired dimensions.\n",
    "Efficient Memory Management:\n",
    "\n",
    "NumPy arrays are more memory-efficient than Python lists, especially for large datasets. The elements are stored in contiguous blocks of memory, making operations faster and more memory-efficient.\n",
    "Vectorized Operations:\n",
    "\n",
    "NumPy supports element-wise operations (e.g., addition, multiplication) directly on arrays without needing explicit loops, which leads to more concise and faster code.\n",
    "Broadcasting:\n",
    "\n",
    "Broadcasting allows NumPy to perform operations on arrays of different shapes, automatically adjusting their dimensions to match in certain situations.\n",
    "Integration with Other Libraries:\n",
    "\n",
    "ndarrays serve as the foundation for other libraries, such as Pandas (for DataFrames) and SciPy, making it easier to work with large datasets in scientific computing.\n",
    "\n",
    "In NumPy, ndarrays (short for N-dimensional arrays) are the core data structure, representing multi-dimensional, homogeneous arrays. An ndarray is essentially a grid of values, all of the same data type, organized along axes, and it supports efficient operations over these values.\n",
    "\n",
    "Key Features of ndarrays:\n",
    "Homogeneous Data:\n",
    "\n",
    "All elements in a NumPy array must have the same data type (e.g., all integers, all floats).\n",
    "Multidimensional:\n",
    "\n",
    "ndarrays can represent one-dimensional (1D) arrays, two-dimensional (2D) arrays, and higher-dimensional arrays (N-dimensional), making them versatile for a wide range of applications.\n",
    "Fixed Size:\n",
    "\n",
    "The size of an ndarray is fixed upon creation, and it cannot be resized directly. To change the size, you must create a new array with the desired dimensions.\n",
    "Efficient Memory Management:\n",
    "\n",
    "NumPy arrays are more memory-efficient than Python lists, especially for large datasets. The elements are stored in contiguous blocks of memory, making operations faster and more memory-efficient.\n",
    "Vectorized Operations:\n",
    "\n",
    "NumPy supports element-wise operations (e.g., addition, multiplication) directly on arrays without needing explicit loops, which leads to more concise and faster code.\n",
    "Broadcasting:\n",
    "\n",
    "Broadcasting allows NumPy to perform operations on arrays of different shapes, automatically adjusting their dimensions to match in certain situations.\n",
    "Integration with Other Libraries:\n",
    "\n",
    "ndarrays serve as the foundation for other libraries, such as Pandas (for DataFrames) and SciPy, making it easier to work with large datasets in scientific computing.\n"
   ]
  },
  {
   "cell_type": "markdown",
   "id": "2789f444-5794-4fd8-af59-2d42af4db5e9",
   "metadata": {},
   "source": [
    "Q6. Analyze the performance benefits of NumPy arrays over Python lists for large-scale numerical operations.\n",
    "Ans) NumPy arrays offer several performance benefits over Python lists, particularly when dealing with large-scale numerical operations. These advantages stem from NumPy's optimized design, which is focused on efficient memory management, computation speed, and the ability to handle large datasets. Here are the key performance benefits:\n",
    "\n",
    "1. Memory Efficiency\n",
    "Contiguous Memory Allocation:\n",
    "NumPy arrays store data in contiguous memory blocks, which improves cache locality and reduces the overhead associated with managing individual elements. In contrast, Python lists are arrays of pointers to objects, which introduces additional memory overhead.\n",
    "Fixed Data Types:\n",
    "NumPy arrays are homogeneous, meaning all elements must be of the same data type. This allows NumPy to use a fixed memory size for each element (e.g., 8 bytes for float64), avoiding the overhead of storing metadata for each element, as in Python lists where each element is a separate object with type information.\n",
    "2. Faster Computation\n",
    "Vectorization:\n",
    "NumPy performs operations on entire arrays in a single operation (known as vectorization). This avoids the need for explicit loops, which are inherently slower in Python. Operations like element-wise addition, multiplication, and other mathematical operations are highly optimized in NumPy, taking advantage of low-level implementations in C.\n",
    "For example, adding two arrays with NumPy can be done in a single call, whereas Python lists would require a loop to perform the addition element by element, which is significantly slower.\n",
    "Optimized Mathematical Functions:\n",
    "NumPy functions are written in C and are optimized for performance, making them orders of magnitude faster than equivalent operations performed using Python loops. Functions like np.dot(), np.sum(), and np.mean() are highly optimized for array operations.\n",
    "3. Broadcasting\n",
    "Efficient Array Manipulation:\n",
    "NumPy's broadcasting mechanism allows operations to be performed on arrays of different shapes without explicitly reshaping them. This leads to faster code and avoids the need for manual adjustments. In contrast, Python lists would require explicit loops or more complex logic to handle operations on arrays with different dimensions.\n",
    "4. Low-Level Operations and Libraries\n",
    "Integration with C and Fortran Libraries:\n",
    "NumPy is integrated with low-level libraries written in C and Fortran, which provide highly efficient routines for matrix multiplication, linear algebra, statistics, and other numerical operations. This integration allows NumPy to leverage optimized, compiled code rather than relying on Python's interpreted execution.\n",
    "Parallelization:\n",
    "Some NumPy functions can be internally parallelized using multi-threading (via libraries like OpenBLAS), which speeds up computation on multi-core systems. Python lists cannot take advantage of this parallelism without manually managing threads or processes.\n",
    "5. Less Overhead for Large Datasets\n",
    "Handling Large Arrays:\n",
    "NumPy can handle large datasets efficiently, both in terms of memory usage and speed. Python lists, on the other hand, are not as efficient when it comes to memory management for large datasets because each element in a list is a reference to a Python object, which introduces overhead.\n",
    "Efficient Memory Layout:\n",
    "NumPy uses a more efficient memory layout for large arrays, while Python lists can quickly become slow and inefficient when handling large volumes of data because each list element is a reference to a different Python object.\n"
   ]
  },
  {
   "cell_type": "markdown",
   "id": "06575b28-7564-429c-b966-8ee542ff3353",
   "metadata": {},
   "source": [
    "Q7. Compare vstack() and hstack() functions in NumPy. Provide examples demonstrating their usage and \n",
    "output\n",
    "Comparison of np.vstack() and np.hstack() in NumPy \n",
    "In NumPy, both vstack() and hstack() are functions used for stacking arrays, but they differ in the direction along which the stacking occurs. Understanding the theoretical concepts behind these functions can help clarify how and when to use them.\n",
    "\n",
    "1. np.vstack(): Vertical Stacking\n",
    "Purpose: vstack() stands for vertical stack. It stacks arrays along the vertical axis, meaning it adds more rows to an existing array.\n",
    "\n",
    "How It Works: The function takes two or more arrays and combines them by appending the rows of one array to the rows of the other. The arrays must have the same number of columns in order to stack them vertically.\n",
    "\n",
    "Mathematical Representation:\n",
    "\n",
    "Let’s say you have two 2D arrays:\n",
    "A = [[a, b], [c, d]] (2x2 array)\n",
    "B = [[e, f], [g, h]] (2x2 array)\n",
    "When you apply np.vstack([A, B]), the resulting array will have the rows of A followed by the rows of B:\n",
    "Result = [[a, b], [c, d], [e, f], [g, h]] (4x2 array)\n",
    "Conditions: The number of columns in the arrays must match, but the number of rows can be different.\n",
    "\n",
    "2. np.hstack(): Horizontal Stacking\n",
    "Purpose: hstack() stands for horizontal stack. It stacks arrays along the horizontal axis, meaning it adds more columns to an existing array.\n",
    "\n",
    "How It Works: The function takes two or more arrays and combines them by appending the columns of one array to the columns of the other. The arrays must have the same number of rows in order to stack them horizontally.\n",
    "\n",
    "Mathematical Representation:\n",
    "\n",
    "Let’s say you have two 2D arrays:\n",
    "A = [[a, b], [c, d]] (2x2 array)\n",
    "B = [[e, f], [g, h]] (2x2 array)\n",
    "When you apply np.hstack([A, B]), the resulting array will have the columns of B appended to the columns of A:\n",
    "Result = [[a, b, e, f], [c, d, g, h]] (2x4 array)\n",
    "Conditions: The number of rows in the arrays must match, but the number of columns can be different.\n",
    "."
   ]
  },
  {
   "cell_type": "markdown",
   "id": "ca1e1bf8-c162-46b2-88c2-3743024e8e31",
   "metadata": {},
   "source": [
    "Q8. Explain the differences between fliplr() and flipud() methods in NumPy, including their effects on various array dimensions.\n",
    "Ans)\n",
    "In NumPy, the methods fliplr() and flipud() are used to flip arrays along different axes, but they differ in the axis of flipping and their effect on the array’s orientation.\n",
    "\n",
    "fliplr(): This method flips an array left-to-right, meaning it reverses the order of columns along the horizontal axis (axis 1). It is applicable to 2D arrays, where it swaps the columns in each row. For higher-dimensional arrays, fliplr() operates on the second axis (columns) of the array. For example, in a 2D array, fliplr() reverses the columns without changing the rows.\n",
    "\n",
    "flipud(): In contrast, flipud() flips an array upside-down, meaning it reverses the order of rows along the vertical axis (axis 0). It swaps the rows of a 2D array, effectively flipping the array along the horizontal axis. For higher-dimensional arrays, flipud() operates on the first axis (rows). This method is particularly useful for reversing the row order without affecting the individual elements in the rows.\n"
   ]
  },
  {
   "cell_type": "markdown",
   "id": "ffbac15f-82c4-410a-b5de-2a4f91b07910",
   "metadata": {},
   "source": [
    "Q9. Discuss the functionality of the array_split() method in NumPy. How does it handle uneven splits? \n",
    "The array_split() method in NumPy is used to split an array into multiple sub-arrays along a specified axis. It is a versatile function that allows you to divide an array into a specified number of sub-arrays, even if the array cannot be evenly divided. This makes it especially useful for handling uneven splits, where the number of elements in each sub-array can vary.\n",
    "\n",
    "Functionality:\n",
    "Syntax: numpy.array_split(ary, indices_or_sections, axis=0)\n",
    "ary: The input array to be split.\n",
    "indices_or_sections: Either the number of splits (an integer) or an array of indices indicating where to split the array.\n",
    "axis: The axis along which to split the array. By default, it is set to 0 (splitting along rows for 2D arrays).\n",
    "Handling Uneven Splits:\n",
    "When the array cannot be evenly divided, array_split() distributes the remaining elements among the sub-arrays as evenly as possible. The first few sub-arrays will contain one more element than the others, ensuring the total number of elements is still preserved.\n",
    "\n",
    "For example, if you try to split an array of 10 elements into 3 sub-arrays, each sub-array would ideally contain 3 elements. Since 10 is not divisible by 3, two of the sub-arrays will contain 3 elements, and one will contain 4 elements."
   ]
  },
  {
   "cell_type": "markdown",
   "id": "29d24f36-8e7c-4efa-8efd-6d12b43b7b36",
   "metadata": {},
   "source": [
    "Q10.  Explain the concepts of vectorization and broadcasting in NumPy. How do they contribute to efficient array \n",
    "operations\n",
    "The array_split() method in NumPy is used to split an array into multiple sub-arrays along a specified axis. It is a versatile function that allows you to divide an array into a specified number of sub-arrays, even if the array cannot be evenly divided. This makes it especially useful for handling uneven splits, where the number of elements in each sub-array can vary.\n",
    "Ans)\n",
    "Functionality:\n",
    "Syntax: numpy.array_split(ary, indices_or_sections, axis=0)\n",
    "ary: The input array to be split.\n",
    "indices_or_sections: Either the number of splits (an integer) or an array of indices indicating where to split the array.\n",
    "axis: The axis along which to split the array. By default, it is set to 0 (splitting along rows for 2D arrays).\n",
    "Handling Uneven Splits:\n",
    "When the array cannot be evenly divided, array_split() distributes the remaining elements among the sub-arrays as evenly as possible. The first few sub-arrays will contain one more element than the others, ensuring the total number of elements is still preserved?"
   ]
  },
  {
   "cell_type": "markdown",
   "id": "26c98d83-ae3d-45c0-9482-c9dfd1761619",
   "metadata": {},
   "source": [
    "Practical Questions:-"
   ]
  },
  {
   "cell_type": "code",
   "execution_count": 1,
   "id": "9607d467-72ee-46c2-ab9a-b4eb2d13f58c",
   "metadata": {},
   "outputs": [],
   "source": [
    "import numpy as np"
   ]
  },
  {
   "cell_type": "code",
   "execution_count": 3,
   "id": "66fab8f2-5a11-4cac-918e-4c658f6b95e3",
   "metadata": {},
   "outputs": [
    {
     "name": "stdout",
     "output_type": "stream",
     "text": [
      "Original Array:\n",
      "[[15 60 58]\n",
      " [21 78  6]\n",
      " [60 80 32]]\n",
      "\n",
      "Transposed Array:\n",
      "[[15 21 60]\n",
      " [60 78 80]\n",
      " [58  6 32]]\n"
     ]
    }
   ],
   "source": [
    "#1.  Create a 3x3 NumPy array with random integers between 1 and 100. Then, interchange its rows and columns\n",
    "array = np.random.randint(1, 101, size=(3, 3))\n",
    "print(\"Original Array:\")\n",
    "print(array)\n",
    "\n",
    "transposed_array = array.T\n",
    "print(\"\\nTransposed Array:\")\n",
    "print(transposed_array)"
   ]
  },
  {
   "cell_type": "code",
   "execution_count": 4,
   "id": "81f31123-749a-467d-9045-7124ef01eb89",
   "metadata": {},
   "outputs": [
    {
     "name": "stdout",
     "output_type": "stream",
     "text": [
      "1D Array:\n",
      "[ 1  2  3  4  5  6  7  8  9 10]\n",
      "\n",
      "Reshaped into 2x5 Array:\n",
      "[[ 1  2  3  4  5]\n",
      " [ 6  7  8  9 10]]\n",
      "\n",
      "Reshaped into 5x2 Array:\n",
      "[[ 1  2]\n",
      " [ 3  4]\n",
      " [ 5  6]\n",
      " [ 7  8]\n",
      " [ 9 10]]\n"
     ]
    }
   ],
   "source": [
    "#2. Generate a 1D NumPy array with 10 elements. Reshape it into a 2x5 array, then into a 5x2 array\n",
    "array_1d = np.arange(1, 11)\n",
    "print(\"1D Array:\")\n",
    "print(array_1d)\n",
    "\n",
    "array_2x5 = array_1d.reshape(2, 5)\n",
    "print(\"\\nReshaped into 2x5 Array:\")\n",
    "print(array_2x5)\n",
    "\n",
    "array_5x2 = array_1d.reshape(5, 2)\n",
    "print(\"\\nReshaped into 5x2 Array:\")\n",
    "print(array_5x2)"
   ]
  },
  {
   "cell_type": "code",
   "execution_count": 5,
   "id": "25ae65ee-32a9-44b2-99a7-5492301f927f",
   "metadata": {},
   "outputs": [
    {
     "name": "stdout",
     "output_type": "stream",
     "text": [
      "Original 4x4 Array:\n",
      "[[0.06453921 0.63560523 0.06459662 0.46739036]\n",
      " [0.86570369 0.45121055 0.21450161 0.96042418]\n",
      " [0.40261228 0.34402807 0.22877393 0.43540894]\n",
      " [0.54977195 0.13706581 0.17550237 0.20968914]]\n",
      "\n",
      "Array with Border (6x6):\n",
      "[[0.         0.         0.         0.         0.         0.        ]\n",
      " [0.         0.06453921 0.63560523 0.06459662 0.46739036 0.        ]\n",
      " [0.         0.86570369 0.45121055 0.21450161 0.96042418 0.        ]\n",
      " [0.         0.40261228 0.34402807 0.22877393 0.43540894 0.        ]\n",
      " [0.         0.54977195 0.13706581 0.17550237 0.20968914 0.        ]\n",
      " [0.         0.         0.         0.         0.         0.        ]]\n"
     ]
    }
   ],
   "source": [
    "#3. Create a 4x4 NumPy array with random float values. Add a border of zeros around it, resulting in a 6x6 array\n",
    "array_4x4 = np.random.rand(4, 4)\n",
    "print(\"Original 4x4 Array:\")\n",
    "print(array_4x4)\n",
    "\n",
    "array_with_border = np.pad(array_4x4, pad_width=1, mode='constant', constant_values=0)\n",
    "print(\"\\nArray with Border (6x6):\")\n",
    "print(array_with_border)"
   ]
  },
  {
   "cell_type": "code",
   "execution_count": 7,
   "id": "aa99ef9b-6ff6-498e-9d39-6b8eab81359e",
   "metadata": {},
   "outputs": [
    {
     "name": "stdout",
     "output_type": "stream",
     "text": [
      "Array of integers from 10 to 60 with a step of 5:\n",
      "[10 15 20 25 30 35 40 45 50 55 60]\n"
     ]
    }
   ],
   "source": [
    "#4. Using NumPy, create an array of integers from 10 to 60 with a step of 5.\n",
    "array = np.arange(10, 65, 5)\n",
    "print(\"Array of integers from 10 to 60 with a step of 5:\")\n",
    "print(array)"
   ]
  },
  {
   "cell_type": "code",
   "execution_count": 8,
   "id": "9b1eba32-6302-4c78-ac1e-ebc2cf5be0ad",
   "metadata": {},
   "outputs": [
    {
     "name": "stdout",
     "output_type": "stream",
     "text": [
      "Original Array:\n",
      "['python' 'numpy' 'pandas']\n",
      "\n",
      "Uppercase:\n",
      "['PYTHON' 'NUMPY' 'PANDAS']\n",
      "\n",
      "Lowercase:\n",
      "['python' 'numpy' 'pandas']\n",
      "\n",
      "Title Case:\n",
      "['Python' 'Numpy' 'Pandas']\n",
      "\n",
      "Capitalized:\n",
      "['Python' 'Numpy' 'Pandas']\n"
     ]
    }
   ],
   "source": [
    "#5. Create a NumPy array of strings ['python', 'numpy', 'pandas']. Apply different case transformations (uppercase, lowercase, title case, etc.) to each element.\n",
    "array = np.array(['python', 'numpy', 'pandas'])\n",
    "\n",
    "uppercase_array = np.char.upper(array)\n",
    "lowercase_array = np.char.lower(array)\n",
    "titlecase_array = np.char.title(array)\n",
    "capitalize_array = np.char.capitalize(array)\n",
    "\n",
    "print(\"Original Array:\")\n",
    "print(array)\n",
    "\n",
    "print(\"\\nUppercase:\")\n",
    "print(uppercase_array)\n",
    "\n",
    "print(\"\\nLowercase:\")\n",
    "print(lowercase_array)\n",
    "\n",
    "print(\"\\nTitle Case:\")\n",
    "print(titlecase_array)\n",
    "\n",
    "print(\"\\nCapitalized:\")\n",
    "print(capitalize_array)"
   ]
  },
  {
   "cell_type": "code",
   "execution_count": 9,
   "id": "5dab8f4e-82ee-48e1-b7d4-cc4470153c52",
   "metadata": {},
   "outputs": [
    {
     "name": "stdout",
     "output_type": "stream",
     "text": [
      "Original Array:\n",
      "['python' 'numpy' 'pandas']\n",
      "\n",
      "Array with Spaces Between Characters:\n",
      "['p y t h o n' 'n u m p y' 'p a n d a s']\n"
     ]
    }
   ],
   "source": [
    "#6.  Generate a NumPy array of words. Insert a space between each character of every word in the array\n",
    "words_array = np.array(['python', 'numpy', 'pandas'])\n",
    "\n",
    "spaced_array = np.char.join(' ', words_array)\n",
    "\n",
    "print(\"Original Array:\")\n",
    "print(words_array)\n",
    "\n",
    "print(\"\\nArray with Spaces Between Characters:\")\n",
    "print(spaced_array)"
   ]
  },
  {
   "cell_type": "code",
   "execution_count": 10,
   "id": "822ef9a4-88e2-4695-8682-17cb945e57b5",
   "metadata": {},
   "outputs": [
    {
     "name": "stdout",
     "output_type": "stream",
     "text": [
      "Array 1:\n",
      "[[1 2 3]\n",
      " [4 5 6]]\n",
      "\n",
      "Array 2:\n",
      "[[ 7  8  9]\n",
      " [10 11 12]]\n",
      "\n",
      "Element-wise Addition:\n",
      "[[ 8 10 12]\n",
      " [14 16 18]]\n",
      "\n",
      "Element-wise Subtraction:\n",
      "[[-6 -6 -6]\n",
      " [-6 -6 -6]]\n",
      "\n",
      "Element-wise Multiplication:\n",
      "[[ 7 16 27]\n",
      " [40 55 72]]\n",
      "\n",
      "Element-wise Division:\n",
      "[[0.14285714 0.25       0.33333333]\n",
      " [0.4        0.45454545 0.5       ]]\n"
     ]
    }
   ],
   "source": [
    "#7. Create two 2D NumPy arrays and perform element-wise addition, subtraction, multiplication, and division\n",
    "array1 = np.array([[1, 2, 3], [4, 5, 6]])\n",
    "array2 = np.array([[7, 8, 9], [10, 11, 12]])\n",
    "\n",
    "addition = array1 + array2\n",
    "subtraction = array1 - array2\n",
    "multiplication = array1 * array2\n",
    "division = array1 / array2\n",
    "\n",
    "print(\"Array 1:\")\n",
    "print(array1)\n",
    "\n",
    "print(\"\\nArray 2:\")\n",
    "print(array2)\n",
    "\n",
    "print(\"\\nElement-wise Addition:\")\n",
    "print(addition)\n",
    "\n",
    "print(\"\\nElement-wise Subtraction:\")\n",
    "print(subtraction)\n",
    "\n",
    "print(\"\\nElement-wise Multiplication:\")\n",
    "print(multiplication)\n",
    "\n",
    "print(\"\\nElement-wise Division:\")\n",
    "print(division)"
   ]
  },
  {
   "cell_type": "code",
   "execution_count": 12,
   "id": "8c5533fa-2c0b-466c-bd24-80da5c884205",
   "metadata": {},
   "outputs": [
    {
     "name": "stdout",
     "output_type": "stream",
     "text": [
      "5x5 Identity Matrix:\n",
      "[[1. 0. 0. 0. 0.]\n",
      " [0. 1. 0. 0. 0.]\n",
      " [0. 0. 1. 0. 0.]\n",
      " [0. 0. 0. 1. 0.]\n",
      " [0. 0. 0. 0. 1.]]\n",
      "\n",
      "Diagonal Elements:\n",
      "[1. 1. 1. 1. 1.]\n"
     ]
    }
   ],
   "source": [
    "#8.  Use NumPy to create a 5x5 identity matrix, then extract its diagonal elements.\n",
    "identity_matrix = np.eye(5)\n",
    "print(\"5x5 Identity Matrix:\")\n",
    "print(identity_matrix)\n",
    "\n",
    "diagonal_elements = np.diag(identity_matrix)\n",
    "print(\"\\nDiagonal Elements:\")\n",
    "print(diagonal_elements)"
   ]
  },
  {
   "cell_type": "code",
   "execution_count": 13,
   "id": "71702332-ce3c-40a5-a0c7-cb4721a60b18",
   "metadata": {},
   "outputs": [
    {
     "name": "stdout",
     "output_type": "stream",
     "text": [
      "Original Array:\n",
      "[779 128 935 274  99 156 319 750 564 872  77 925 600 831 276 813 566  40\n",
      "  33 403 544 528  87 114 768 370 227 699 775  86 348 501 247 522 675 987\n",
      " 920 463 898 758 609 769 526 719 637 546 983 951 545 470 847 252 578 517\n",
      "  76 793  68  78 557  93 142 444 495 544  90 609 785 842 536 747 863 498\n",
      " 838  82 354 634 213 642 400 555 396 373 856 730 469 233 769 315 511 835\n",
      " 124  11 289 275 153  34 375 674 510  61]\n",
      "\n",
      "Prime Numbers in the Array:\n",
      "[227, 463, 769, 719, 983, 557, 863, 373, 233, 769, 11, 61]\n"
     ]
    }
   ],
   "source": [
    "#9.  Generate a NumPy array of 100 random integers between 0 and 1000. Find and display all prime numbers in this array.\n",
    "def is_prime(n):\n",
    "    if n < 2:\n",
    "        return False\n",
    "    for i in range(2, int(np.sqrt(n)) + 1):\n",
    "        if n % i == 0:\n",
    "            return False\n",
    "    return True\n",
    "\n",
    "random_array = np.random.randint(0, 1001, size=100)\n",
    "\n",
    "primes = [num for num in random_array if is_prime(num)]\n",
    "\n",
    "print(\"Original Array:\")\n",
    "print(random_array)\n",
    "\n",
    "print(\"\\nPrime Numbers in the Array:\")\n",
    "print(primes)"
   ]
  },
  {
   "cell_type": "code",
   "execution_count": 16,
   "id": "d1641a80-a657-4554-a486-4fbaba019290",
   "metadata": {},
   "outputs": [
    {
     "name": "stdout",
     "output_type": "stream",
     "text": [
      "Daily Temperatures for the Month:\n",
      "[23 24 21 31 32 20 31 25 27 30 31 32 25 31 29 29 20 30 32 26 28 31 30 20\n",
      " 33 29 31 20 30 29]\n",
      "\n",
      "Weekly Averages:\n",
      "[26.4 28.5 28.1]\n"
     ]
    }
   ],
   "source": [
    "#10.  Create a NumPy array representing daily temperatures for a month. Calculate and display the weekly averages.\n",
    "temperatures = np.random.randint(20, 35, size=30) \n",
    "\n",
    "weekly_averages = np.mean(temperatures.reshape(3, 10), axis=1)\n",
    "\n",
    "print(\"Daily Temperatures for the Month:\")\n",
    "print(temperatures)\n",
    "\n",
    "print(\"\\nWeekly Averages:\")\n",
    "print(weekly_averages)"
   ]
  },
  {
   "cell_type": "code",
   "execution_count": null,
   "id": "0845bf4a-1ade-4150-b64d-0e0cfbdefadc",
   "metadata": {},
   "outputs": [],
   "source": []
  }
 ],
 "metadata": {
  "kernelspec": {
   "display_name": "Python 3 (ipykernel)",
   "language": "python",
   "name": "python3"
  },
  "language_info": {
   "codemirror_mode": {
    "name": "ipython",
    "version": 3
   },
   "file_extension": ".py",
   "mimetype": "text/x-python",
   "name": "python",
   "nbconvert_exporter": "python",
   "pygments_lexer": "ipython3",
   "version": "3.12.4"
  }
 },
 "nbformat": 4,
 "nbformat_minor": 5
}
